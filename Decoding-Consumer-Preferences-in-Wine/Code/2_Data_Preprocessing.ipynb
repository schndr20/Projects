{
 "cells": [
  {
   "cell_type": "markdown",
   "metadata": {},
   "source": [
    "### **0. Libraries + Dataset import**"
   ]
  },
  {
   "cell_type": "code",
   "execution_count": 1,
   "metadata": {},
   "outputs": [],
   "source": [
    "import pandas as pd\n",
    "import numpy as np\n",
    "import matplotlib.pyplot as plt\n",
    "import seaborn as sns\n",
    "import math\n",
    "import os\n",
    "from os import path"
   ]
  },
  {
   "cell_type": "code",
   "execution_count": 2,
   "metadata": {},
   "outputs": [],
   "source": [
    "# working directory\n",
    "data_directory = '/Users/lukas/OneDrive/01_Projects/Conduct your own end-to-end analytics project/Code/Upload'\n",
    "\n",
    "# features\n",
    "feature_df = pd.read_csv(path.join(data_directory, '20231006_pt_feature.csv'), low_memory=False)\n",
    "\n",
    "# reviews\n",
    "review_df = pd.read_csv(path.join(data_directory, '20231006_pt_reviews.csv'), low_memory=False)\n",
    "\n",
    "# alochol\n",
    "alcohol_df = pd.read_csv(path.join(data_directory, 'df_alcohol.csv'), low_memory=False)"
   ]
  },
  {
   "cell_type": "code",
   "execution_count": 3,
   "metadata": {},
   "outputs": [
    {
     "data": {
      "text/plain": [
       "(2500, 32)"
      ]
     },
     "execution_count": 3,
     "metadata": {},
     "output_type": "execute_result"
    }
   ],
   "source": [
    "# first inspection\n",
    "feature_df.shape"
   ]
  },
  {
   "cell_type": "code",
   "execution_count": 4,
   "metadata": {},
   "outputs": [
    {
     "data": {
      "text/plain": [
       "(464109, 19)"
      ]
     },
     "execution_count": 4,
     "metadata": {},
     "output_type": "execute_result"
    }
   ],
   "source": [
    "# first inspection\n",
    "review_df.shape"
   ]
  },
  {
   "cell_type": "code",
   "execution_count": 5,
   "metadata": {},
   "outputs": [
    {
     "data": {
      "text/plain": [
       "Index(['Unnamed: 0', 'wine_id', 'year', 'review_id', 'user_id', 'user_name',\n",
       "       'review_rating', 'review', 'createdat', 'review_referring_year',\n",
       "       'likes_on_review', 'comments_on_review', 'user_language',\n",
       "       'user_follower', 'user_following', 'user_total_given_ratings',\n",
       "       'user_total_sum_ratings', 'user_total_given_reviews',\n",
       "       'user_purchase_made'],\n",
       "      dtype='object')"
      ]
     },
     "execution_count": 5,
     "metadata": {},
     "output_type": "execute_result"
    }
   ],
   "source": [
    "review_df.columns"
   ]
  },
  {
   "cell_type": "code",
   "execution_count": 6,
   "metadata": {},
   "outputs": [],
   "source": [
    "# create an really unique identifier \n",
    "review_df['identifier'] = review_df.apply(lambda row: f\"{row['review_id']}-{row['createdat']}\", axis=1)"
   ]
  },
  {
   "cell_type": "code",
   "execution_count": 7,
   "metadata": {},
   "outputs": [],
   "source": [
    "review_df.drop_duplicates(subset=['identifier'], inplace=True)\n",
    "\n",
    "review_df.drop(columns='identifier', inplace=True)"
   ]
  },
  {
   "cell_type": "code",
   "execution_count": 8,
   "metadata": {},
   "outputs": [
    {
     "data": {
      "text/plain": [
       "(260158, 19)"
      ]
     },
     "execution_count": 8,
     "metadata": {},
     "output_type": "execute_result"
    }
   ],
   "source": [
    "review_df.shape"
   ]
  },
  {
   "cell_type": "code",
   "execution_count": 9,
   "metadata": {},
   "outputs": [
    {
     "data": {
      "text/plain": [
       "(2500, 4)"
      ]
     },
     "execution_count": 9,
     "metadata": {},
     "output_type": "execute_result"
    }
   ],
   "source": [
    "# first inspection\n",
    "alcohol_df.shape"
   ]
  },
  {
   "cell_type": "code",
   "execution_count": 10,
   "metadata": {},
   "outputs": [],
   "source": [
    "# create unique identifier based on the combination wine_id and year\n",
    "feature_df['unique_id'] = feature_df.apply(lambda row: f\"{row['wine_id']}-{row['year']}\", axis=1)"
   ]
  },
  {
   "cell_type": "code",
   "execution_count": 11,
   "metadata": {},
   "outputs": [],
   "source": [
    "# replace na year with nan review_reffering year with original year\n",
    "review_df.loc[review_df['review_referring_year'].isnull() & review_df['year'].notnull(), 'review_referring_year'] = review_df.loc[review_df['review_referring_year'].isnull() & review_df['year'].notnull(), 'year']"
   ]
  },
  {
   "cell_type": "code",
   "execution_count": 12,
   "metadata": {},
   "outputs": [],
   "source": [
    "# create unique identifier based on the combination wine_id and year\n",
    "review_df['unique_id'] = review_df.apply(lambda row: f\"{row['wine_id']}-{row['review_referring_year']}\", axis=1)"
   ]
  },
  {
   "cell_type": "code",
   "execution_count": 13,
   "metadata": {},
   "outputs": [],
   "source": [
    "# define a list for unique identifier for reviews\n",
    "wine_review_list = list(np.unique(review_df['unique_id']))\n",
    "\n",
    "# define a list for unique identifier for features \n",
    "wine_feature_list = list(np.unique(feature_df['unique_id']))"
   ]
  },
  {
   "cell_type": "code",
   "execution_count": 14,
   "metadata": {},
   "outputs": [],
   "source": [
    "# just include wine with their features who have a review\n",
    "feature_df = feature_df[feature_df['unique_id'].isin(wine_review_list)]\n",
    "\n",
    "# just include wine with their features who have a review\n",
    "review_df = review_df[review_df['unique_id'].isin(wine_feature_list)]"
   ]
  },
  {
   "cell_type": "code",
   "execution_count": 15,
   "metadata": {},
   "outputs": [
    {
     "data": {
      "text/plain": [
       "(2354, 33)"
      ]
     },
     "execution_count": 15,
     "metadata": {},
     "output_type": "execute_result"
    }
   ],
   "source": [
    "# adjusted final inspection\n",
    "feature_df.shape"
   ]
  },
  {
   "cell_type": "code",
   "execution_count": 16,
   "metadata": {},
   "outputs": [
    {
     "data": {
      "text/plain": [
       "(81993, 20)"
      ]
     },
     "execution_count": 16,
     "metadata": {},
     "output_type": "execute_result"
    }
   ],
   "source": [
    "# adjusted final inspection\n",
    "review_df.shape"
   ]
  },
  {
   "cell_type": "code",
   "execution_count": 17,
   "metadata": {},
   "outputs": [],
   "source": [
    "# add alcohol\n",
    "feature_df = feature_df.merge(alcohol_df, how='left')"
   ]
  },
  {
   "cell_type": "markdown",
   "metadata": {},
   "source": [
    "### **1. Data cleaning and preparation of the independt dataframes**"
   ]
  },
  {
   "cell_type": "code",
   "execution_count": 18,
   "metadata": {},
   "outputs": [],
   "source": [
    "# drop non-meaningful columns \n",
    "feature_df.drop(columns=['Unnamed: 0', 'seo-name', 'vintage_id','genre', 'seo_cleaned', 'country', 'body_rating'], axis = 1, inplace=True)\n",
    "\n",
    "# rename columns for spelling correction & consistency\n",
    "feature_df.rename({'suggested_food_pairining': 'suggested_food_pairing','total_number_ratings': 'total_ratings_number' }, axis=1, inplace =True)"
   ]
  },
  {
   "cell_type": "code",
   "execution_count": 19,
   "metadata": {},
   "outputs": [],
   "source": [
    "# drop non-meaningful columns \n",
    "review_df.drop(columns=['Unnamed: 0', 'user_name'], axis=1, inplace=True)"
   ]
  },
  {
   "cell_type": "markdown",
   "metadata": {},
   "source": [
    "#### a. Missing values"
   ]
  },
  {
   "cell_type": "markdown",
   "metadata": {},
   "source": [
    "##### feature_df"
   ]
  },
  {
   "cell_type": "code",
   "execution_count": 20,
   "metadata": {},
   "outputs": [
    {
     "data": {
      "text/html": [
       "<div>\n",
       "<style scoped>\n",
       "    .dataframe tbody tr th:only-of-type {\n",
       "        vertical-align: middle;\n",
       "    }\n",
       "\n",
       "    .dataframe tbody tr th {\n",
       "        vertical-align: top;\n",
       "    }\n",
       "\n",
       "    .dataframe thead th {\n",
       "        text-align: right;\n",
       "    }\n",
       "</style>\n",
       "<table border=\"1\" class=\"dataframe\">\n",
       "  <thead>\n",
       "    <tr style=\"text-align: right;\">\n",
       "      <th></th>\n",
       "      <th>feature</th>\n",
       "      <th>value</th>\n",
       "      <th>share (%)</th>\n",
       "      <th>counter_value</th>\n",
       "    </tr>\n",
       "  </thead>\n",
       "  <tbody>\n",
       "    <tr>\n",
       "      <th>23</th>\n",
       "      <td>fizziness</td>\n",
       "      <td>2341</td>\n",
       "      <td>99.45</td>\n",
       "      <td>46</td>\n",
       "    </tr>\n",
       "    <tr>\n",
       "      <th>12</th>\n",
       "      <td>original_price</td>\n",
       "      <td>2336</td>\n",
       "      <td>99.24</td>\n",
       "      <td>51</td>\n",
       "    </tr>\n",
       "    <tr>\n",
       "      <th>22</th>\n",
       "      <td>tannin</td>\n",
       "      <td>1227</td>\n",
       "      <td>52.12</td>\n",
       "      <td>1160</td>\n",
       "    </tr>\n",
       "    <tr>\n",
       "      <th>6</th>\n",
       "      <td>wine_style_description</td>\n",
       "      <td>859</td>\n",
       "      <td>36.49</td>\n",
       "      <td>1528</td>\n",
       "    </tr>\n",
       "    <tr>\n",
       "      <th>15</th>\n",
       "      <td>interesting_facts</td>\n",
       "      <td>859</td>\n",
       "      <td>36.49</td>\n",
       "      <td>1528</td>\n",
       "    </tr>\n",
       "    <tr>\n",
       "      <th>14</th>\n",
       "      <td>grapes</td>\n",
       "      <td>339</td>\n",
       "      <td>14.40</td>\n",
       "      <td>2048</td>\n",
       "    </tr>\n",
       "    <tr>\n",
       "      <th>27</th>\n",
       "      <td>alcohol</td>\n",
       "      <td>214</td>\n",
       "      <td>9.09</td>\n",
       "      <td>2173</td>\n",
       "    </tr>\n",
       "    <tr>\n",
       "      <th>20</th>\n",
       "      <td>sweetness</td>\n",
       "      <td>80</td>\n",
       "      <td>3.40</td>\n",
       "      <td>2307</td>\n",
       "    </tr>\n",
       "    <tr>\n",
       "      <th>5</th>\n",
       "      <td>wine_style</td>\n",
       "      <td>67</td>\n",
       "      <td>2.85</td>\n",
       "      <td>2320</td>\n",
       "    </tr>\n",
       "    <tr>\n",
       "      <th>16</th>\n",
       "      <td>body_description</td>\n",
       "      <td>67</td>\n",
       "      <td>2.85</td>\n",
       "      <td>2320</td>\n",
       "    </tr>\n",
       "    <tr>\n",
       "      <th>17</th>\n",
       "      <td>vivino_type_id</td>\n",
       "      <td>67</td>\n",
       "      <td>2.85</td>\n",
       "      <td>2320</td>\n",
       "    </tr>\n",
       "    <tr>\n",
       "      <th>19</th>\n",
       "      <td>acidity</td>\n",
       "      <td>67</td>\n",
       "      <td>2.85</td>\n",
       "      <td>2320</td>\n",
       "    </tr>\n",
       "    <tr>\n",
       "      <th>21</th>\n",
       "      <td>intensity</td>\n",
       "      <td>67</td>\n",
       "      <td>2.85</td>\n",
       "      <td>2320</td>\n",
       "    </tr>\n",
       "    <tr>\n",
       "      <th>24</th>\n",
       "      <td>suggested_food_pairing</td>\n",
       "      <td>67</td>\n",
       "      <td>2.85</td>\n",
       "      <td>2320</td>\n",
       "    </tr>\n",
       "    <tr>\n",
       "      <th>25</th>\n",
       "      <td>flavor_words</td>\n",
       "      <td>18</td>\n",
       "      <td>0.76</td>\n",
       "      <td>2369</td>\n",
       "    </tr>\n",
       "  </tbody>\n",
       "</table>\n",
       "</div>"
      ],
      "text/plain": [
       "                   feature  value  share (%)  counter_value\n",
       "23               fizziness   2341      99.45             46\n",
       "12          original_price   2336      99.24             51\n",
       "22                  tannin   1227      52.12           1160\n",
       "6   wine_style_description    859      36.49           1528\n",
       "15       interesting_facts    859      36.49           1528\n",
       "14                  grapes    339      14.40           2048\n",
       "27                 alcohol    214       9.09           2173\n",
       "20               sweetness     80       3.40           2307\n",
       "5               wine_style     67       2.85           2320\n",
       "16        body_description     67       2.85           2320\n",
       "17          vivino_type_id     67       2.85           2320\n",
       "19                 acidity     67       2.85           2320\n",
       "21               intensity     67       2.85           2320\n",
       "24  suggested_food_pairing     67       2.85           2320\n",
       "25            flavor_words     18       0.76           2369"
      ]
     },
     "execution_count": 20,
     "metadata": {},
     "output_type": "execute_result"
    }
   ],
   "source": [
    "# check for missing values\n",
    "null_df = feature_df.isnull().sum().reset_index()\n",
    "null_df.columns = ['feature', 'value']\n",
    "\n",
    "# criteria\n",
    "not_null = null_df['value'] != 0\n",
    "\n",
    "# output\n",
    "null_df = null_df[not_null]\n",
    "null_df[\"share (%)\"] = np.round(null_df[\"value\"]/feature_df.shape[0]*100, 2)\n",
    "null_df[\"counter_value\"] = np.round(2387-null_df[\"value\"])\n",
    "null_df.sort_values('share (%)', ascending = False)"
   ]
  },
  {
   "cell_type": "code",
   "execution_count": 21,
   "metadata": {},
   "outputs": [
    {
     "data": {
      "text/plain": [
       "vivino_type_id\n",
       "1.0     1127\n",
       "2.0      582\n",
       "24.0     531\n",
       "4.0       34\n",
       "3.0       13\n",
       "Name: count, dtype: int64"
      ]
     },
     "execution_count": 21,
     "metadata": {},
     "output_type": "execute_result"
    }
   ],
   "source": [
    "# exact match for missing values for tannin and fizzines: set the other to cero\n",
    "feature_df['vivino_type_id'].value_counts()"
   ]
  },
  {
   "cell_type": "code",
   "execution_count": 22,
   "metadata": {},
   "outputs": [],
   "source": [
    "# sparkling wine with no indicator for sweetness\n",
    "feature_df['sweetness'] = feature_df['sweetness'].replace(np.nan, 0)\n",
    "\n",
    "# fizziness only for sparkling wines\n",
    "feature_df['fizziness'] = feature_df['fizziness'].replace(np.nan, 0)\n",
    "\n",
    "# tannin only for red wines\n",
    "feature_df['tannin'] = feature_df['tannin'].replace(np.nan, 0)"
   ]
  },
  {
   "cell_type": "code",
   "execution_count": 23,
   "metadata": {},
   "outputs": [],
   "source": [
    "# above the threshold of 50 %: drop features\n",
    "feature_df = feature_df.drop(columns= ['original_price'], axis = 1)"
   ]
  },
  {
   "cell_type": "code",
   "execution_count": 24,
   "metadata": {},
   "outputs": [],
   "source": [
    "# pattern to check to impute with other value, but not possible\n",
    "pattern_list = ['wine', 'wine_id','suggested_food_pairing', 'wine_style', 'intensity', 'acidity',\n",
    "            'vivino_type_id', 'body_description']\n",
    "\n",
    "# to remove\n",
    "ids_to_remove = list(np.unique(feature_df[feature_df[\"intensity\"].isnull()][pattern_list]['wine_id']))\n",
    "\n",
    "# remove\n",
    "feature_df = feature_df[~feature_df['wine_id'].isin(ids_to_remove)]"
   ]
  },
  {
   "cell_type": "code",
   "execution_count": 25,
   "metadata": {},
   "outputs": [],
   "source": [
    "# drop observations with missing winery \n",
    "ids_to_remove = list(feature_df[feature_df[\"winery\"].isna()][['wine_id', 'wine']]['wine_id'])\n",
    "\n",
    "feature_df = feature_df[~feature_df['wine_id'].isin(ids_to_remove)]"
   ]
  },
  {
   "cell_type": "code",
   "execution_count": 26,
   "metadata": {},
   "outputs": [],
   "source": [
    "feature_df['alcohol'] = feature_df['alcohol'].replace(0, np.nan)\n",
    "feature_df['alcohol']=feature_df['alcohol'].fillna(feature_df.groupby('vivino_type_id')['alcohol'].transform('median'))"
   ]
  },
  {
   "cell_type": "code",
   "execution_count": 27,
   "metadata": {},
   "outputs": [],
   "source": [
    "# Calculate the mode for each wine_style group\n",
    "mode_per_style = feature_df.groupby('wine_style')['flavor_words'].agg(lambda x: x.mode()[0] if not x.mode().empty else np.nan)\n",
    "\n",
    "# Create a DataFrame for easy access\n",
    "mode_per_style_df = mode_per_style.reset_index().rename(columns={'flavor_words': 'mode_flavor_words'})\n",
    "\n",
    "# Merge the mode values back to the original DataFrame\n",
    "feature_df = feature_df.merge(mode_per_style_df, on='wine_style', how='left')\n",
    "\n",
    "# Replace NaN values in flavor_words with the mode values\n",
    "feature_df['flavor_words'] = feature_df['flavor_words'].fillna(feature_df['mode_flavor_words'])\n",
    "\n",
    "# Drop the extra column as it's no longer needed\n",
    "feature_df.drop(columns=['mode_flavor_words'], inplace=True)"
   ]
  },
  {
   "cell_type": "code",
   "execution_count": 28,
   "metadata": {},
   "outputs": [],
   "source": [
    "# replace the missing value for grapes with most frequent category\n",
    "mode_grapes = feature_df['grapes'].mode()[0]\n",
    "feature_df['grapes'].fillna(mode_grapes, inplace=True)"
   ]
  },
  {
   "cell_type": "code",
   "execution_count": 29,
   "metadata": {},
   "outputs": [
    {
     "name": "stdout",
     "output_type": "stream",
     "text": [
      "Central Portugal Red: 110\n",
      "Central Portugal White: 32\n",
      "Colheita Port: 59\n",
      "Crusted Port: 3\n",
      "Late Bottled Vintage Port: 53\n",
      "Northern Portugal Rosé: 34\n",
      "Portuguese Azores Red: 2\n",
      "Portuguese Azores White: 7\n",
      "Portuguese Dão White: 65\n",
      "Portuguese Madeira: 67\n",
      "Portuguese Moscatel: 12\n",
      "Portuguese Red: 6\n",
      "Portuguese Sparkling: 13\n",
      "Portuguese White: 3\n",
      "Ruby Port: 30\n",
      "Single Quinta Vintage Port: 20\n",
      "Tawny Port: 92\n",
      "Vintage Port: 143\n",
      "White Port: 41\n"
     ]
    }
   ],
   "source": [
    "# to possibility to remove with same category due that fact all are empty\n",
    "check_to_replace = list(np.unique(feature_df[feature_df['wine_style_description'].isna()][['wine_style','wine_style_description']]['wine_style']))\n",
    "\n",
    "for i in check_to_replace:\n",
    "    print(f'{i}: {feature_df[feature_df[\"wine_style\"]==i].shape[0]}')\n"
   ]
  },
  {
   "cell_type": "code",
   "execution_count": 30,
   "metadata": {},
   "outputs": [],
   "source": [
    "# create indicator\n",
    "feature_df['has_wine_style_description'] = feature_df['wine_style_description'].apply(lambda x: 'No' if pd.isna(x) else 'Yes')\n",
    "\n",
    "# replace na with empty\n",
    "feature_df['wine_style_description'] = feature_df['wine_style_description'].fillna('empty')"
   ]
  },
  {
   "cell_type": "code",
   "execution_count": 31,
   "metadata": {},
   "outputs": [],
   "source": [
    "# create indicator\n",
    "feature_df['has_interesting_facts'] = feature_df['interesting_facts'].apply(lambda x: 'No' if pd.isna(x) else 'Yes')\n",
    "\n",
    "# replace na with empty\n",
    "feature_df['interesting_facts'] = feature_df['interesting_facts'].fillna('empty')"
   ]
  },
  {
   "cell_type": "code",
   "execution_count": 32,
   "metadata": {},
   "outputs": [
    {
     "data": {
      "text/html": [
       "<div>\n",
       "<style scoped>\n",
       "    .dataframe tbody tr th:only-of-type {\n",
       "        vertical-align: middle;\n",
       "    }\n",
       "\n",
       "    .dataframe tbody tr th {\n",
       "        vertical-align: top;\n",
       "    }\n",
       "\n",
       "    .dataframe thead th {\n",
       "        text-align: right;\n",
       "    }\n",
       "</style>\n",
       "<table border=\"1\" class=\"dataframe\">\n",
       "  <thead>\n",
       "    <tr style=\"text-align: right;\">\n",
       "      <th></th>\n",
       "      <th>feature</th>\n",
       "      <th>value</th>\n",
       "      <th>share (%)</th>\n",
       "    </tr>\n",
       "  </thead>\n",
       "  <tbody>\n",
       "  </tbody>\n",
       "</table>\n",
       "</div>"
      ],
      "text/plain": [
       "Empty DataFrame\n",
       "Columns: [feature, value, share (%)]\n",
       "Index: []"
      ]
     },
     "execution_count": 32,
     "metadata": {},
     "output_type": "execute_result"
    }
   ],
   "source": [
    "# check for missing values\n",
    "null_df = feature_df.isnull().sum().reset_index()\n",
    "null_df.columns = ['feature', 'value']\n",
    "\n",
    "# criteria\n",
    "not_null = null_df['value'] != 0\n",
    "\n",
    "# output\n",
    "null_df = null_df[not_null]\n",
    "null_df[\"share (%)\"] = np.round(null_df[\"value\"]/feature_df.shape[0]*100, 2)\n",
    "null_df"
   ]
  },
  {
   "cell_type": "markdown",
   "metadata": {},
   "source": [
    "##### review_df"
   ]
  },
  {
   "cell_type": "code",
   "execution_count": 33,
   "metadata": {},
   "outputs": [
    {
     "data": {
      "text/html": [
       "<div>\n",
       "<style scoped>\n",
       "    .dataframe tbody tr th:only-of-type {\n",
       "        vertical-align: middle;\n",
       "    }\n",
       "\n",
       "    .dataframe tbody tr th {\n",
       "        vertical-align: top;\n",
       "    }\n",
       "\n",
       "    .dataframe thead th {\n",
       "        text-align: right;\n",
       "    }\n",
       "</style>\n",
       "<table border=\"1\" class=\"dataframe\">\n",
       "  <thead>\n",
       "    <tr style=\"text-align: right;\">\n",
       "      <th></th>\n",
       "      <th>feature</th>\n",
       "      <th>value</th>\n",
       "      <th>share (%)</th>\n",
       "    </tr>\n",
       "  </thead>\n",
       "  <tbody>\n",
       "    <tr>\n",
       "      <th>5</th>\n",
       "      <td>review</td>\n",
       "      <td>2</td>\n",
       "      <td>0.0</td>\n",
       "    </tr>\n",
       "    <tr>\n",
       "      <th>10</th>\n",
       "      <td>user_language</td>\n",
       "      <td>2</td>\n",
       "      <td>0.0</td>\n",
       "    </tr>\n",
       "    <tr>\n",
       "      <th>11</th>\n",
       "      <td>user_follower</td>\n",
       "      <td>2</td>\n",
       "      <td>0.0</td>\n",
       "    </tr>\n",
       "    <tr>\n",
       "      <th>12</th>\n",
       "      <td>user_following</td>\n",
       "      <td>2</td>\n",
       "      <td>0.0</td>\n",
       "    </tr>\n",
       "    <tr>\n",
       "      <th>13</th>\n",
       "      <td>user_total_given_ratings</td>\n",
       "      <td>2</td>\n",
       "      <td>0.0</td>\n",
       "    </tr>\n",
       "    <tr>\n",
       "      <th>14</th>\n",
       "      <td>user_total_sum_ratings</td>\n",
       "      <td>2</td>\n",
       "      <td>0.0</td>\n",
       "    </tr>\n",
       "    <tr>\n",
       "      <th>15</th>\n",
       "      <td>user_total_given_reviews</td>\n",
       "      <td>2</td>\n",
       "      <td>0.0</td>\n",
       "    </tr>\n",
       "    <tr>\n",
       "      <th>16</th>\n",
       "      <td>user_purchase_made</td>\n",
       "      <td>2</td>\n",
       "      <td>0.0</td>\n",
       "    </tr>\n",
       "  </tbody>\n",
       "</table>\n",
       "</div>"
      ],
      "text/plain": [
       "                     feature  value  share (%)\n",
       "5                     review      2        0.0\n",
       "10             user_language      2        0.0\n",
       "11             user_follower      2        0.0\n",
       "12            user_following      2        0.0\n",
       "13  user_total_given_ratings      2        0.0\n",
       "14    user_total_sum_ratings      2        0.0\n",
       "15  user_total_given_reviews      2        0.0\n",
       "16        user_purchase_made      2        0.0"
      ]
     },
     "execution_count": 33,
     "metadata": {},
     "output_type": "execute_result"
    }
   ],
   "source": [
    "# check for missing values\n",
    "null_df = review_df.isnull().sum().reset_index()\n",
    "null_df.columns = ['feature', 'value']\n",
    "\n",
    "# criteria\n",
    "not_null = null_df['value'] != 0\n",
    "\n",
    "# output\n",
    "null_df = null_df[not_null]\n",
    "null_df[\"share (%)\"] = np.round(null_df[\"value\"]/review_df.shape[0]*100, 2)\n",
    "null_df.sort_values('share (%)', ascending = False)"
   ]
  },
  {
   "cell_type": "code",
   "execution_count": 34,
   "metadata": {},
   "outputs": [],
   "source": [
    "review_df = review_df[review_df['review'].notna()]"
   ]
  },
  {
   "cell_type": "code",
   "execution_count": 35,
   "metadata": {},
   "outputs": [
    {
     "data": {
      "text/html": [
       "<div>\n",
       "<style scoped>\n",
       "    .dataframe tbody tr th:only-of-type {\n",
       "        vertical-align: middle;\n",
       "    }\n",
       "\n",
       "    .dataframe tbody tr th {\n",
       "        vertical-align: top;\n",
       "    }\n",
       "\n",
       "    .dataframe thead th {\n",
       "        text-align: right;\n",
       "    }\n",
       "</style>\n",
       "<table border=\"1\" class=\"dataframe\">\n",
       "  <thead>\n",
       "    <tr style=\"text-align: right;\">\n",
       "      <th></th>\n",
       "      <th>feature</th>\n",
       "      <th>value</th>\n",
       "      <th>share (%)</th>\n",
       "    </tr>\n",
       "  </thead>\n",
       "  <tbody>\n",
       "  </tbody>\n",
       "</table>\n",
       "</div>"
      ],
      "text/plain": [
       "Empty DataFrame\n",
       "Columns: [feature, value, share (%)]\n",
       "Index: []"
      ]
     },
     "execution_count": 35,
     "metadata": {},
     "output_type": "execute_result"
    }
   ],
   "source": [
    "# check for missing values\n",
    "null_df = review_df.isnull().sum().reset_index()\n",
    "null_df.columns = ['feature', 'value']\n",
    "\n",
    "# criteria\n",
    "not_null = null_df['value'] != 0\n",
    "\n",
    "# output\n",
    "null_df = null_df[not_null]\n",
    "null_df[\"share (%)\"] = np.round(null_df[\"value\"]/review_df.shape[0]*100, 2)\n",
    "null_df.sort_values('share (%)', ascending = False)"
   ]
  },
  {
   "cell_type": "markdown",
   "metadata": {},
   "source": [
    "#### b. Duplicates"
   ]
  },
  {
   "cell_type": "markdown",
   "metadata": {},
   "source": [
    "##### feature_df"
   ]
  },
  {
   "cell_type": "code",
   "execution_count": 36,
   "metadata": {},
   "outputs": [
    {
     "data": {
      "text/plain": [
       "True"
      ]
     },
     "execution_count": 36,
     "metadata": {},
     "output_type": "execute_result"
    }
   ],
   "source": [
    "# check for occurence of duplicates\n",
    "feature_df.duplicated().any()"
   ]
  },
  {
   "cell_type": "code",
   "execution_count": 37,
   "metadata": {},
   "outputs": [],
   "source": [
    "# drop duplicates\n",
    "feature_df = feature_df.drop_duplicates()"
   ]
  },
  {
   "cell_type": "code",
   "execution_count": 38,
   "metadata": {},
   "outputs": [
    {
     "data": {
      "text/plain": [
       "(1797, 29)"
      ]
     },
     "execution_count": 38,
     "metadata": {},
     "output_type": "execute_result"
    }
   ],
   "source": [
    "# final outcome\n",
    "feature_df.shape"
   ]
  },
  {
   "cell_type": "code",
   "execution_count": 39,
   "metadata": {},
   "outputs": [
    {
     "data": {
      "text/plain": [
       "False"
      ]
     },
     "execution_count": 39,
     "metadata": {},
     "output_type": "execute_result"
    }
   ],
   "source": [
    "# final check\n",
    "feature_df.duplicated().any()"
   ]
  },
  {
   "cell_type": "markdown",
   "metadata": {},
   "source": [
    "##### review_df"
   ]
  },
  {
   "cell_type": "code",
   "execution_count": 40,
   "metadata": {},
   "outputs": [
    {
     "data": {
      "text/plain": [
       "(81991, 18)"
      ]
     },
     "execution_count": 40,
     "metadata": {},
     "output_type": "execute_result"
    }
   ],
   "source": [
    "review_df.shape"
   ]
  },
  {
   "cell_type": "code",
   "execution_count": 41,
   "metadata": {},
   "outputs": [],
   "source": [
    "review_df.drop(columns = 'year', axis =1, inplace = True)"
   ]
  },
  {
   "cell_type": "code",
   "execution_count": 42,
   "metadata": {},
   "outputs": [
    {
     "data": {
      "text/plain": [
       "False"
      ]
     },
     "execution_count": 42,
     "metadata": {},
     "output_type": "execute_result"
    }
   ],
   "source": [
    "# check for occurence of duplicates\n",
    "review_df.duplicated().any()"
   ]
  },
  {
   "cell_type": "code",
   "execution_count": 43,
   "metadata": {},
   "outputs": [],
   "source": [
    "review_df = review_df.drop_duplicates()"
   ]
  },
  {
   "cell_type": "code",
   "execution_count": 44,
   "metadata": {},
   "outputs": [
    {
     "data": {
      "text/plain": [
       "(81991, 17)"
      ]
     },
     "execution_count": 44,
     "metadata": {},
     "output_type": "execute_result"
    }
   ],
   "source": [
    "review_df.shape"
   ]
  },
  {
   "cell_type": "markdown",
   "metadata": {},
   "source": [
    "#### c. Data preprocessing"
   ]
  },
  {
   "cell_type": "markdown",
   "metadata": {},
   "source": [
    "##### feature_df"
   ]
  },
  {
   "cell_type": "code",
   "execution_count": 45,
   "metadata": {},
   "outputs": [],
   "source": [
    "# Split the suggested_food_pairing into individual foods and create a set of unique foods\n",
    "feature_df['suggested_food_pairing'] = feature_df['suggested_food_pairing'].apply(lambda x: [food.strip() for food in x.split(',')])\n",
    "\n",
    "# Create a set of unique foods after stripping spaces\n",
    "unique_food = set(food for sublist in feature_df['suggested_food_pairing'] for food in sublist)\n",
    "\n",
    "# Create True/False columns for each food\n",
    "for food in unique_food:\n",
    "    feature_df[food] = feature_df['suggested_food_pairing'].apply(lambda x: food in x)"
   ]
  },
  {
   "cell_type": "code",
   "execution_count": 46,
   "metadata": {},
   "outputs": [],
   "source": [
    "# number of food_words\n",
    "feature_df['amount_food_words'] = feature_df['suggested_food_pairing'].apply(lambda x: len(x))\n",
    "\n",
    "# drop the wrong splitted variables\n",
    "feature_df.drop(columns = ['venison)', 'tuna etc)'], axis=1, inplace=True)\n",
    "\n",
    "feature_df.rename({'Rich fish (salmon': 'Rich fish (salmon & tuna etc)','Game (deer':'Game (deer & vension)' }, axis=1, inplace = True)\n",
    "\n",
    "feature_df.drop(columns = 'suggested_food_pairing', axis=1, inplace=True)"
   ]
  },
  {
   "cell_type": "code",
   "execution_count": 47,
   "metadata": {},
   "outputs": [],
   "source": [
    "# Split the suggested_food_pairing into individual foods and create a set of unique foods\n",
    "feature_df['flavor_words'] = feature_df['flavor_words'].apply(lambda x: [flavor.strip() for flavor in x.split(',')])\n",
    "\n",
    "# Create a set of unique foods after stripping spaces\n",
    "unique_flavor = set(flavor for sublist in feature_df['flavor_words'] for flavor in sublist)\n",
    "\n",
    "# Create True/False columns for each food\n",
    "for flavor in unique_flavor:\n",
    "    feature_df[flavor] = feature_df['flavor_words'].apply(lambda x: flavor in x)"
   ]
  },
  {
   "cell_type": "code",
   "execution_count": 48,
   "metadata": {},
   "outputs": [],
   "source": [
    "# number of food_words\n",
    "feature_df['amount_flavor_words'] = feature_df['flavor_words'].apply(lambda x: len(x))\n",
    "\n",
    "# drop unecessary column\n",
    "feature_df.drop(columns = 'flavor_words', axis=1, inplace=True)"
   ]
  },
  {
   "cell_type": "code",
   "execution_count": 49,
   "metadata": {},
   "outputs": [],
   "source": [
    "# to calcuate the number of grapes but keep the combinations\n",
    "feature_df['amount_grapes'] = feature_df['grapes'].str.split(', ').apply(len)"
   ]
  },
  {
   "cell_type": "code",
   "execution_count": 50,
   "metadata": {},
   "outputs": [],
   "source": [
    "# mapping the number Vivino wine ids to specific names\n",
    "wine_type_mapping = {1.0: \"red\", 2.0: \"white\", 24.0: \"fortitied\", 4.0: \"rose\", 3.0: \"sparkling\" }\n",
    "\n",
    "feature_df[\"wine_type\"] = feature_df[\"vivino_type_id\"].map(wine_type_mapping)"
   ]
  },
  {
   "cell_type": "code",
   "execution_count": 51,
   "metadata": {},
   "outputs": [],
   "source": [
    "# drop the column ro \n",
    "feature_df.drop(columns='vivino_type_id', axis=1, inplace=True)"
   ]
  },
  {
   "cell_type": "code",
   "execution_count": 52,
   "metadata": {},
   "outputs": [],
   "source": [
    "# make everything in small letters\n",
    "feature_df.columns = [feature.lower() for feature in feature_df.columns]"
   ]
  },
  {
   "cell_type": "markdown",
   "metadata": {},
   "source": [
    "##### review_df"
   ]
  },
  {
   "cell_type": "code",
   "execution_count": 53,
   "metadata": {},
   "outputs": [
    {
     "data": {
      "text/plain": [
       "Index(['wine_id', 'review_id', 'user_id', 'review_rating', 'review',\n",
       "       'createdat', 'review_referring_year', 'likes_on_review',\n",
       "       'comments_on_review', 'user_language', 'user_follower',\n",
       "       'user_following', 'user_total_given_ratings', 'user_total_sum_ratings',\n",
       "       'user_total_given_reviews', 'user_purchase_made', 'unique_id'],\n",
       "      dtype='object')"
      ]
     },
     "execution_count": 53,
     "metadata": {},
     "output_type": "execute_result"
    }
   ],
   "source": [
    "review_df.columns"
   ]
  },
  {
   "cell_type": "code",
   "execution_count": 54,
   "metadata": {},
   "outputs": [],
   "source": [
    "# value to replace with just the language\n",
    "change = {'ru-RU': 'ru', 'pt-PT': 'pt', 'pt-BR': 'pt', 'it-IT': 'it', 'sv-SE': 'sv', 'en-US': 'en', 'fr-FR': 'fr', 'ca-ES': 'ca', 'nl-NL': 'nl', 'ro-RO': 'ro', 'zh-CN': 'zh', 'da-DK': 'da',\n",
    "            'en-AU': 'en', 'de-DE': 'de', 'ja-JP': 'ja'}\n",
    "review_df['user_language'] = review_df['user_language'].replace(change)"
   ]
  },
  {
   "cell_type": "code",
   "execution_count": 55,
   "metadata": {},
   "outputs": [
    {
     "data": {
      "text/plain": [
       "review_rating\n",
       "4.0    28247\n",
       "3.5    12276\n",
       "4.5     8801\n",
       "5.0     8017\n",
       "3.0     7269\n",
       "3.8     2129\n",
       "4.2     1831\n",
       "3.9     1759\n",
       "4.1     1581\n",
       "2.5     1467\n",
       "3.7     1423\n",
       "4.3     1132\n",
       "2.0     1128\n",
       "3.6      892\n",
       "4.4      761\n",
       "1.0      443\n",
       "3.4      404\n",
       "4.6      400\n",
       "3.3      339\n",
       "4.7      335\n",
       "4.8      280\n",
       "3.2      279\n",
       "1.5      204\n",
       "4.9      123\n",
       "3.1      115\n",
       "2.8       93\n",
       "2.9       87\n",
       "2.7       52\n",
       "2.3       28\n",
       "2.6       26\n",
       "2.2       19\n",
       "2.4       12\n",
       "2.1        9\n",
       "1.2        8\n",
       "1.1        7\n",
       "1.6        5\n",
       "1.8        3\n",
       "1.7        2\n",
       "1.4        2\n",
       "1.3        2\n",
       "1.9        1\n",
       "Name: count, dtype: int64"
      ]
     },
     "execution_count": 55,
     "metadata": {},
     "output_type": "execute_result"
    }
   ],
   "source": [
    "review_df['review_rating'].value_counts()"
   ]
  },
  {
   "cell_type": "code",
   "execution_count": 56,
   "metadata": {},
   "outputs": [],
   "source": [
    "sorted_review_df = review_df['review_rating'].value_counts().reset_index().sort_values(by='review_rating')\n",
    "sorted_review_df['review_rating'] = sorted_review_df['review_rating'].astype(str)"
   ]
  },
  {
   "cell_type": "code",
   "execution_count": 57,
   "metadata": {},
   "outputs": [
    {
     "data": {
      "image/png": "[encoded data removed]",
      "text/plain": [
       "<Figure size 2000x600 with 1 Axes>"
      ]
     },
     "metadata": {},
     "output_type": "display_data"
    }
   ],
   "source": [
    "# Plotting\n",
    "sorted_review_df = review_df['review_rating'].value_counts().reset_index().sort_values(by='review_rating')\n",
    "sorted_review_df['review_rating'] = sorted_review_df['review_rating'].astype(str)\n",
    "\n",
    "plt.figure(figsize=(20, 6))\n",
    "plt.bar(sorted_review_df['review_rating'], sorted_review_df['count'], color='#0061FF')\n",
    "plt.xlabel('')\n",
    "plt.ylabel('Count')\n",
    "plt.title('Review Ratings Distribution')\n",
    "plt.grid(axis='y')\n",
    "plt.show()"
   ]
  },
  {
   "cell_type": "code",
   "execution_count": 58,
   "metadata": {},
   "outputs": [
    {
     "data": {
      "image/png": "[encoded data removed]",
      "text/plain": [
       "<Figure size 2000x600 with 1 Axes>"
      ]
     },
     "metadata": {},
     "output_type": "display_data"
    }
   ],
   "source": [
    "# Plotting\n",
    "temp_df = review_df.copy()[['review_rating']]\n",
    "temp_df['review_rating'] = temp_df['review_rating'].apply(lambda values: np.round(values))\n",
    "\n",
    "sorted_review_df = temp_df['review_rating'].value_counts().reset_index().sort_values(by='review_rating')\n",
    "sorted_review_df['review_rating'] = sorted_review_df['review_rating'].astype(str)\n",
    "\n",
    "plt.figure(figsize=(20, 6))\n",
    "plt.bar(sorted_review_df['review_rating'], sorted_review_df['count'], color='#0061FF')\n",
    "plt.xlabel('')\n",
    "plt.ylabel('Count')\n",
    "plt.title('Review Ratings Distribution')\n",
    "plt.grid(axis='y')\n",
    "plt.show()"
   ]
  },
  {
   "cell_type": "code",
   "execution_count": 59,
   "metadata": {},
   "outputs": [
    {
     "data": {
      "image/png": "[encoded data removed]",
      "text/plain": [
       "<Figure size 2000x600 with 1 Axes>"
      ]
     },
     "metadata": {},
     "output_type": "display_data"
    }
   ],
   "source": [
    "# Plotting\n",
    "temp_df = review_df.copy()[['review_rating']]\n",
    "temp_df['review_rating'] = temp_df['review_rating'].apply(lambda values: np.round(values * 2) / 2)\n",
    "\n",
    "sorted_review_df = temp_df['review_rating'].value_counts().reset_index().sort_values(by='review_rating')\n",
    "sorted_review_df['review_rating'] = sorted_review_df['review_rating'].astype(str)\n",
    "\n",
    "plt.figure(figsize=(20, 6))\n",
    "plt.bar(sorted_review_df['review_rating'], sorted_review_df['count'], color='#0061FF')\n",
    "plt.xlabel('')\n",
    "plt.ylabel('Count')\n",
    "plt.title('Review Ratings Distribution')\n",
    "plt.grid(axis='y')\n",
    "plt.show()"
   ]
  },
  {
   "cell_type": "code",
   "execution_count": 60,
   "metadata": {},
   "outputs": [],
   "source": [
    "# create the labels to capture the broad sense: 0.5 were kept\n",
    "review_df['review_rating_cat'] = review_df['review_rating'].apply(lambda values: np.round(values * 2) / 2)"
   ]
  },
  {
   "cell_type": "markdown",
   "metadata": {},
   "source": [
    "#### d. Data types"
   ]
  },
  {
   "cell_type": "markdown",
   "metadata": {},
   "source": [
    "##### feature_df"
   ]
  },
  {
   "cell_type": "code",
   "execution_count": 61,
   "metadata": {},
   "outputs": [
    {
     "data": {
      "text/html": [
       "<div>\n",
       "<style scoped>\n",
       "    .dataframe tbody tr th:only-of-type {\n",
       "        vertical-align: middle;\n",
       "    }\n",
       "\n",
       "    .dataframe tbody tr th {\n",
       "        vertical-align: top;\n",
       "    }\n",
       "\n",
       "    .dataframe thead th {\n",
       "        text-align: right;\n",
       "    }\n",
       "</style>\n",
       "<table border=\"1\" class=\"dataframe\">\n",
       "  <thead>\n",
       "    <tr style=\"text-align: right;\">\n",
       "      <th></th>\n",
       "      <th>data-type</th>\n",
       "    </tr>\n",
       "    <tr>\n",
       "      <th>feature</th>\n",
       "      <th></th>\n",
       "    </tr>\n",
       "  </thead>\n",
       "  <tbody>\n",
       "    <tr>\n",
       "      <th>wine_id</th>\n",
       "      <td>int64</td>\n",
       "    </tr>\n",
       "    <tr>\n",
       "      <th>wine</th>\n",
       "      <td>object</td>\n",
       "    </tr>\n",
       "    <tr>\n",
       "      <th>winery</th>\n",
       "      <td>object</td>\n",
       "    </tr>\n",
       "    <tr>\n",
       "      <th>year</th>\n",
       "      <td>object</td>\n",
       "    </tr>\n",
       "    <tr>\n",
       "      <th>region</th>\n",
       "      <td>object</td>\n",
       "    </tr>\n",
       "    <tr>\n",
       "      <th>...</th>\n",
       "      <td>...</td>\n",
       "    </tr>\n",
       "    <tr>\n",
       "      <th>spices</th>\n",
       "      <td>bool</td>\n",
       "    </tr>\n",
       "    <tr>\n",
       "      <th>vegetal</th>\n",
       "      <td>bool</td>\n",
       "    </tr>\n",
       "    <tr>\n",
       "      <th>amount_flavor_words</th>\n",
       "      <td>int64</td>\n",
       "    </tr>\n",
       "    <tr>\n",
       "      <th>amount_grapes</th>\n",
       "      <td>int64</td>\n",
       "    </tr>\n",
       "    <tr>\n",
       "      <th>wine_type</th>\n",
       "      <td>object</td>\n",
       "    </tr>\n",
       "  </tbody>\n",
       "</table>\n",
       "<p>62 rows × 1 columns</p>\n",
       "</div>"
      ],
      "text/plain": [
       "                    data-type\n",
       "feature                      \n",
       "wine_id                 int64\n",
       "wine                   object\n",
       "winery                 object\n",
       "year                   object\n",
       "region                 object\n",
       "...                       ...\n",
       "spices                   bool\n",
       "vegetal                  bool\n",
       "amount_flavor_words     int64\n",
       "amount_grapes           int64\n",
       "wine_type              object\n",
       "\n",
       "[62 rows x 1 columns]"
      ]
     },
     "execution_count": 61,
     "metadata": {},
     "output_type": "execute_result"
    }
   ],
   "source": [
    "data_types = feature_df.dtypes.reset_index()\n",
    "data_types.columns = ['feature', 'data-type']\n",
    "data_types.set_index('feature')"
   ]
  },
  {
   "cell_type": "code",
   "execution_count": 62,
   "metadata": {},
   "outputs": [
    {
     "name": "stdout",
     "output_type": "stream",
     "text": [
      "15 categorical variables\n",
      "47 numerical variables\n"
     ]
    }
   ],
   "source": [
    "# categorical\n",
    "cat_features = list(data_types[data_types['data-type'] == \"object\"][\"feature\"])\n",
    "print(f'{len(cat_features)} categorical variables')\n",
    "\n",
    "# numerical\n",
    "numeric_features = list(data_types[data_types['data-type'] != \"object\"][\"feature\"])\n",
    "print(f'{len(numeric_features)} numerical variables')"
   ]
  },
  {
   "cell_type": "markdown",
   "metadata": {},
   "source": [
    "##### review_df"
   ]
  },
  {
   "cell_type": "code",
   "execution_count": 63,
   "metadata": {},
   "outputs": [
    {
     "data": {
      "text/html": [
       "<div>\n",
       "<style scoped>\n",
       "    .dataframe tbody tr th:only-of-type {\n",
       "        vertical-align: middle;\n",
       "    }\n",
       "\n",
       "    .dataframe tbody tr th {\n",
       "        vertical-align: top;\n",
       "    }\n",
       "\n",
       "    .dataframe thead th {\n",
       "        text-align: right;\n",
       "    }\n",
       "</style>\n",
       "<table border=\"1\" class=\"dataframe\">\n",
       "  <thead>\n",
       "    <tr style=\"text-align: right;\">\n",
       "      <th></th>\n",
       "      <th>data-type</th>\n",
       "    </tr>\n",
       "    <tr>\n",
       "      <th>feature</th>\n",
       "      <th></th>\n",
       "    </tr>\n",
       "  </thead>\n",
       "  <tbody>\n",
       "    <tr>\n",
       "      <th>wine_id</th>\n",
       "      <td>int64</td>\n",
       "    </tr>\n",
       "    <tr>\n",
       "      <th>review_id</th>\n",
       "      <td>int64</td>\n",
       "    </tr>\n",
       "    <tr>\n",
       "      <th>user_id</th>\n",
       "      <td>int64</td>\n",
       "    </tr>\n",
       "    <tr>\n",
       "      <th>review_rating</th>\n",
       "      <td>float64</td>\n",
       "    </tr>\n",
       "    <tr>\n",
       "      <th>review</th>\n",
       "      <td>object</td>\n",
       "    </tr>\n",
       "    <tr>\n",
       "      <th>createdat</th>\n",
       "      <td>object</td>\n",
       "    </tr>\n",
       "    <tr>\n",
       "      <th>review_referring_year</th>\n",
       "      <td>object</td>\n",
       "    </tr>\n",
       "    <tr>\n",
       "      <th>likes_on_review</th>\n",
       "      <td>int64</td>\n",
       "    </tr>\n",
       "    <tr>\n",
       "      <th>comments_on_review</th>\n",
       "      <td>int64</td>\n",
       "    </tr>\n",
       "    <tr>\n",
       "      <th>user_language</th>\n",
       "      <td>object</td>\n",
       "    </tr>\n",
       "    <tr>\n",
       "      <th>user_follower</th>\n",
       "      <td>float64</td>\n",
       "    </tr>\n",
       "    <tr>\n",
       "      <th>user_following</th>\n",
       "      <td>float64</td>\n",
       "    </tr>\n",
       "    <tr>\n",
       "      <th>user_total_given_ratings</th>\n",
       "      <td>float64</td>\n",
       "    </tr>\n",
       "    <tr>\n",
       "      <th>user_total_sum_ratings</th>\n",
       "      <td>float64</td>\n",
       "    </tr>\n",
       "    <tr>\n",
       "      <th>user_total_given_reviews</th>\n",
       "      <td>float64</td>\n",
       "    </tr>\n",
       "    <tr>\n",
       "      <th>user_purchase_made</th>\n",
       "      <td>float64</td>\n",
       "    </tr>\n",
       "    <tr>\n",
       "      <th>unique_id</th>\n",
       "      <td>object</td>\n",
       "    </tr>\n",
       "    <tr>\n",
       "      <th>review_rating_cat</th>\n",
       "      <td>float64</td>\n",
       "    </tr>\n",
       "  </tbody>\n",
       "</table>\n",
       "</div>"
      ],
      "text/plain": [
       "                         data-type\n",
       "feature                           \n",
       "wine_id                      int64\n",
       "review_id                    int64\n",
       "user_id                      int64\n",
       "review_rating              float64\n",
       "review                      object\n",
       "createdat                   object\n",
       "review_referring_year       object\n",
       "likes_on_review              int64\n",
       "comments_on_review           int64\n",
       "user_language               object\n",
       "user_follower              float64\n",
       "user_following             float64\n",
       "user_total_given_ratings   float64\n",
       "user_total_sum_ratings     float64\n",
       "user_total_given_reviews   float64\n",
       "user_purchase_made         float64\n",
       "unique_id                   object\n",
       "review_rating_cat          float64"
      ]
     },
     "execution_count": 63,
     "metadata": {},
     "output_type": "execute_result"
    }
   ],
   "source": [
    "data_types = review_df.dtypes.reset_index()\n",
    "data_types.columns = ['feature', 'data-type']\n",
    "data_types.set_index('feature')"
   ]
  },
  {
   "cell_type": "code",
   "execution_count": 64,
   "metadata": {},
   "outputs": [],
   "source": [
    "# extract the date\n",
    "review_df[['date_review', 'time_review']] = review_df['createdat'].str.split('T', expand=True)\n",
    "\n",
    "# extract the time \n",
    "review_df['time_review'] = review_df['time_review'].str.replace('.000Z', '', regex=False)\n",
    "\n",
    "# drop unnecessary column\n",
    "review_df.drop(columns = 'createdat', axis=1, inplace=True)\n",
    "\n",
    "# change format to date \n",
    "review_df['date_review'] = pd.to_datetime(review_df['date_review'], format='%Y-%m-%d')"
   ]
  },
  {
   "cell_type": "code",
   "execution_count": 65,
   "metadata": {},
   "outputs": [],
   "source": [
    "review_df['time_review'] = pd.to_datetime(review_df['time_review'], format='%H:%M:%S').dt.time"
   ]
  },
  {
   "cell_type": "code",
   "execution_count": 66,
   "metadata": {},
   "outputs": [
    {
     "name": "stdout",
     "output_type": "stream",
     "text": [
      "5 categorical variables\n",
      "13 numerical variables\n"
     ]
    }
   ],
   "source": [
    "# categorical\n",
    "cat_reviews = list(data_types[data_types['data-type'] == \"object\"][\"feature\"])\n",
    "print(f'{len(cat_reviews)} categorical variables')\n",
    "\n",
    "# numerical\n",
    "numeric_reviews = list(data_types[data_types['data-type'] != \"object\"][\"feature\"])\n",
    "print(f'{len(numeric_reviews)} numerical variables')"
   ]
  },
  {
   "cell_type": "code",
   "execution_count": 67,
   "metadata": {},
   "outputs": [
    {
     "data": {
      "text/plain": [
       "Index(['wine_id', 'review_id', 'user_id', 'review_rating', 'review',\n",
       "       'review_referring_year', 'likes_on_review', 'comments_on_review',\n",
       "       'user_language', 'user_follower', 'user_following',\n",
       "       'user_total_given_ratings', 'user_total_sum_ratings',\n",
       "       'user_total_given_reviews', 'user_purchase_made', 'unique_id',\n",
       "       'review_rating_cat', 'date_review', 'time_review'],\n",
       "      dtype='object')"
      ]
     },
     "execution_count": 67,
     "metadata": {},
     "output_type": "execute_result"
    }
   ],
   "source": [
    "review_df.columns"
   ]
  },
  {
   "cell_type": "code",
   "execution_count": 68,
   "metadata": {},
   "outputs": [],
   "source": [
    "feature_df.to_csv('20231010_feature_cleaned.csv', index = False)\n",
    "\n",
    "review_df.to_csv('20231010_review_cleaned.csv', index = False)"
   ]
  },
  {
   "cell_type": "markdown",
   "metadata": {},
   "source": [
    "### **2. Data cleaning and preparation for the merged dataframe**"
   ]
  },
  {
   "cell_type": "markdown",
   "metadata": {},
   "source": [
    "#### a. Data import & merge"
   ]
  },
  {
   "cell_type": "code",
   "execution_count": 69,
   "metadata": {},
   "outputs": [
    {
     "data": {
      "text/plain": [
       "'/Users/lukas/OneDrive/01_Projects/Conduct your own end-to-end analytics project/Code/Upload'"
      ]
     },
     "execution_count": 69,
     "metadata": {},
     "output_type": "execute_result"
    }
   ],
   "source": [
    "data_directory"
   ]
  },
  {
   "cell_type": "code",
   "execution_count": 70,
   "metadata": {},
   "outputs": [],
   "source": [
    "# features\n",
    "feature_df = pd.read_csv(path.join(data_directory, '20231010_feature_cleaned.csv'), low_memory=False)\n",
    "\n",
    "# reviews\n",
    "review_df = pd.read_csv(path.join(data_directory, '20231010_review_cleaned.csv'), low_memory=False)"
   ]
  },
  {
   "cell_type": "code",
   "execution_count": 71,
   "metadata": {},
   "outputs": [],
   "source": [
    "# define a list for unique wine-id to analyze only reviews with the features\n",
    "wine_feature_list = list(np.unique(feature_df['unique_id']))\n",
    "\n",
    "review_df = review_df[review_df['unique_id'].isin(wine_feature_list)]"
   ]
  },
  {
   "cell_type": "code",
   "execution_count": 72,
   "metadata": {},
   "outputs": [
    {
     "data": {
      "text/plain": [
       "True"
      ]
     },
     "execution_count": 72,
     "metadata": {},
     "output_type": "execute_result"
    }
   ],
   "source": [
    "list(np.unique(review_df[\"wine_id\"]))== list(np.unique(feature_df[\"wine_id\"]))"
   ]
  },
  {
   "cell_type": "code",
   "execution_count": 73,
   "metadata": {},
   "outputs": [
    {
     "name": "stdout",
     "output_type": "stream",
     "text": [
      "match for created key:\t True\n",
      "match for original key:\t True\n"
     ]
    }
   ],
   "source": [
    "# sanity check \n",
    "wine_review_list = list(np.unique(review_df['unique_id']))\n",
    "wine_feature_list.sort()\n",
    "wine_review_list.sort()\n",
    "\n",
    "# created unique key \n",
    "print(f'match for created key:\\t {wine_review_list == wine_feature_list}') \n",
    "# original wine id \n",
    "print(f'match for original key:\\t {list(np.unique(review_df[\"wine_id\"]))== list(np.unique(feature_df[\"wine_id\"]))}')"
   ]
  },
  {
   "cell_type": "code",
   "execution_count": 74,
   "metadata": {},
   "outputs": [],
   "source": [
    "# merge the data frames \n",
    "wine_df = pd.merge(feature_df, review_df, how='outer', on='unique_id')"
   ]
  },
  {
   "cell_type": "markdown",
   "metadata": {},
   "source": [
    "#### b. Pre-processing data"
   ]
  },
  {
   "cell_type": "code",
   "execution_count": 75,
   "metadata": {},
   "outputs": [],
   "source": [
    "wine_df.drop(columns=['wine_id_y'], inplace=True)"
   ]
  },
  {
   "cell_type": "code",
   "execution_count": 76,
   "metadata": {},
   "outputs": [],
   "source": [
    "wine_df.rename(columns = {'wine_id_x': 'wine_id'}, inplace=True)"
   ]
  },
  {
   "cell_type": "code",
   "execution_count": 77,
   "metadata": {},
   "outputs": [],
   "source": [
    "# drop the year and just rely on the comment referring year\n",
    "wine_df.drop(columns=['year'], inplace=True)\n",
    "\n",
    "wine_df.rename(columns = {'wine_id_x': 'wine_id', 'review_rating': 'rating', 'review_rating_cat': 'rating_label', 'review_referring_year': 'vintage'}, inplace=True)"
   ]
  },
  {
   "cell_type": "code",
   "execution_count": 78,
   "metadata": {},
   "outputs": [],
   "source": [
    "# assess the length of the cleaned review\n",
    "wine_df['review_len'] = wine_df['review'].astype(str).apply(len)"
   ]
  },
  {
   "cell_type": "code",
   "execution_count": 79,
   "metadata": {},
   "outputs": [],
   "source": [
    "# assess the number of cleaned words \n",
    "wine_df['review_word'] = wine_df['review'].apply(lambda x: len(str(x).split()))"
   ]
  },
  {
   "cell_type": "markdown",
   "metadata": {},
   "source": [
    "#### c. Product attributes"
   ]
  },
  {
   "cell_type": "code",
   "execution_count": 80,
   "metadata": {},
   "outputs": [],
   "source": [
    "# Intrinsic Attributes\n",
    "intrinsic_attributes = [\n",
    "    'wine_style', 'wine_style_description', 'grapes','body_description',\n",
    "    'acidity', 'sweetness', 'intensity', 'tannin', 'fizziness', 'alcohol', 'amount_grapes',\n",
    "    'wine_type', 'vintage'\n",
    "]\n",
    "\n",
    "# Extrinsic Attributes\n",
    "extrinsic_attributes = [\n",
    "    'wine_id', 'wine', 'winery', 'region', 'ratings_average', 'ratings_number',\n",
    "    'all_vintage_ratings_average', 'all_vintage_ratings_count', 'price', 'price_type',\n",
    "    'interesting_facts', 'bottle_type', 'unique_id', 'has_wine_style_description',\n",
    "    'has_interesting_facts', 'beef', 'mild and soft cheese', 'blue cheese', 'shellfish',\n",
    "    'sweet desserts','veal', 'lean fish', 'appetizers and snacks', 'game (deer & vension)',\n",
    "    'vegetarian', 'cured meat', 'mature and hard cheese', 'aperitif', 'lamb', 'fruity desserts',\n",
    "    'pasta', 'pork', 'rich fish (salmon & tuna etc)', 'poultry','vegetal', 'earth', 'floral', \n",
    "    'tree_fruit', 'red_fruit', 'black_fruit', 'microbio', 'spices', 'citrus_fruit', 'non_oak', 'oak', 'dried_fruit',\n",
    "    'tropical_fruit', 'amount_flavor_words', 'review_id', 'user_id','date_review', 'time_review', 'amount_food_words'\n",
    "]\n",
    "\n",
    "# Personal Attributes\n",
    "personal_attributes = [\n",
    "    'rating', 'review', 'likes_on_review', 'comments_on_review', 'user_language',\n",
    "       'user_follower', 'user_following', 'user_total_given_ratings',\n",
    "       'user_total_sum_ratings', 'user_total_given_reviews',\n",
    "       'user_purchase_made', 'rating_label', 'review_len', 'review_word'\n",
    "]"
   ]
  },
  {
   "cell_type": "code",
   "execution_count": 81,
   "metadata": {},
   "outputs": [],
   "source": [
    "for element in wine_df:\n",
    "    if element not in intrinsic_attributes+extrinsic_attributes+personal_attributes:\n",
    "        print(element)"
   ]
  },
  {
   "cell_type": "code",
   "execution_count": 82,
   "metadata": {},
   "outputs": [
    {
     "data": {
      "text/html": [
       "<div>\n",
       "<style scoped>\n",
       "    .dataframe tbody tr th:only-of-type {\n",
       "        vertical-align: middle;\n",
       "    }\n",
       "\n",
       "    .dataframe tbody tr th {\n",
       "        vertical-align: top;\n",
       "    }\n",
       "\n",
       "    .dataframe thead th {\n",
       "        text-align: right;\n",
       "    }\n",
       "</style>\n",
       "<table border=\"1\" class=\"dataframe\">\n",
       "  <thead>\n",
       "    <tr style=\"text-align: right;\">\n",
       "      <th></th>\n",
       "      <th>attribute_type</th>\n",
       "      <th>feature</th>\n",
       "      <th>color</th>\n",
       "    </tr>\n",
       "  </thead>\n",
       "  <tbody>\n",
       "    <tr>\n",
       "      <th>0</th>\n",
       "      <td>intrinsic</td>\n",
       "      <td>wine_style</td>\n",
       "      <td>#1f77b4</td>\n",
       "    </tr>\n",
       "    <tr>\n",
       "      <th>1</th>\n",
       "      <td>intrinsic</td>\n",
       "      <td>wine_style_description</td>\n",
       "      <td>#1f77b4</td>\n",
       "    </tr>\n",
       "    <tr>\n",
       "      <th>2</th>\n",
       "      <td>intrinsic</td>\n",
       "      <td>grapes</td>\n",
       "      <td>#1f77b4</td>\n",
       "    </tr>\n",
       "    <tr>\n",
       "      <th>3</th>\n",
       "      <td>intrinsic</td>\n",
       "      <td>body_description</td>\n",
       "      <td>#1f77b4</td>\n",
       "    </tr>\n",
       "    <tr>\n",
       "      <th>4</th>\n",
       "      <td>intrinsic</td>\n",
       "      <td>acidity</td>\n",
       "      <td>#1f77b4</td>\n",
       "    </tr>\n",
       "  </tbody>\n",
       "</table>\n",
       "</div>"
      ],
      "text/plain": [
       "  attribute_type                 feature    color\n",
       "0      intrinsic              wine_style  #1f77b4\n",
       "1      intrinsic  wine_style_description  #1f77b4\n",
       "2      intrinsic                  grapes  #1f77b4\n",
       "3      intrinsic        body_description  #1f77b4\n",
       "4      intrinsic                 acidity  #1f77b4"
      ]
     },
     "execution_count": 82,
     "metadata": {},
     "output_type": "execute_result"
    }
   ],
   "source": [
    "data = []\n",
    "\n",
    "for attr in intrinsic_attributes:\n",
    "    data.append(['intrinsic', attr])\n",
    "\n",
    "for attr in extrinsic_attributes:\n",
    "    data.append(['extrinsic', attr])\n",
    "\n",
    "for attr in personal_attributes:\n",
    "    data.append(['personal', attr])\n",
    "\n",
    "df_attributes = pd.DataFrame(data, columns=['attribute_type', 'feature'])\n",
    "df_attributes.head()  # Display the first few rows of the DataFrame\n",
    "\n",
    "# Assigning colors to each attribute type\n",
    "# Tableau color codes\n",
    "color_map = {\n",
    "    'intrinsic': '#1f77b4',  # Tableau Blue\n",
    "    'extrinsic': '#ff7f0e',  # Tableau Orange\n",
    "    'personal': '#7f7f7f'    # Tableau Grey\n",
    "}\n",
    "\n",
    "# Add a color column to the DataFrame\n",
    "df_attributes['color'] = df_attributes['attribute_type'].map(color_map)\n",
    "df_attributes.head()  # Display the first few rows of the DataFrame with colors"
   ]
  },
  {
   "cell_type": "code",
   "execution_count": 83,
   "metadata": {},
   "outputs": [
    {
     "data": {
      "text/plain": [
       "color\n",
       "#ff7f0e    53\n",
       "#7f7f7f    14\n",
       "#1f77b4    13\n",
       "Name: count, dtype: int64"
      ]
     },
     "execution_count": 83,
     "metadata": {},
     "output_type": "execute_result"
    }
   ],
   "source": [
    "df_attributes['color'].value_counts()"
   ]
  },
  {
   "cell_type": "code",
   "execution_count": 84,
   "metadata": {},
   "outputs": [],
   "source": [
    "df_attributes.to_csv('attribute_df.csv', index=False)"
   ]
  },
  {
   "cell_type": "code",
   "execution_count": 85,
   "metadata": {},
   "outputs": [],
   "source": [
    "wine_df.to_csv('wine_df.csv', index=False)"
   ]
  }
 ],
 "metadata": {
  "kernelspec": {
   "display_name": "base",
   "language": "python",
   "name": "python3"
  },
  "language_info": {
   "codemirror_mode": {
    "name": "ipython",
    "version": 3
   },
   "file_extension": ".py",
   "mimetype": "text/x-python",
   "name": "python",
   "nbconvert_exporter": "python",
   "pygments_lexer": "ipython3",
   "version": "3.11.6"
  },
  "orig_nbformat": 4
 },
 "nbformat": 4,
 "nbformat_minor": 2
}
